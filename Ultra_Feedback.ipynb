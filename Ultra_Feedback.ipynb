{
 "cells": [
  {
   "cell_type": "code",
   "execution_count": null,
   "metadata": {},
   "outputs": [],
   "source": [
    "import random\n",
    "import pandas as pd\n",
    "import numpy as np\n",
    "from datasets import Dataset, load_dataset\n",
    "import jsonlines\n",
    "from textacy import text_stats, make_spacy_doc\n",
    "from bunkatopics import Bunka\n",
    "from langchain_community.embeddings import HuggingFaceEmbeddings\n",
    "from sentence_transformers import SentenceTransformer\n",
    "from sklearn.cluster import KMeans"
   ]
  },
  {
   "cell_type": "code",
   "execution_count": null,
   "metadata": {},
   "outputs": [],
   "source": [
    "df_sample = pd.DataFrame(load_dataset(\"argilla/ultrafeedback-binarized-preferences-cleaned\")[\"train\"]).sample(n=1000, random_state=42)"
   ]
  },
  {
   "cell_type": "code",
   "execution_count": null,
   "metadata": {},
   "outputs": [],
   "source": [
    "df_sample"
   ]
  },
  {
   "cell_type": "code",
   "execution_count": null,
   "metadata": {},
   "outputs": [],
   "source": [
    "df_sample.isna().sum()"
   ]
  },
  {
   "cell_type": "markdown",
   "metadata": {},
   "source": [
    "Get Metadata"
   ]
  },
  {
   "cell_type": "code",
   "execution_count": null,
   "metadata": {},
   "outputs": [],
   "source": [
    "source = df_sample['source'].tolist()\n",
    "chosen_rating = df_sample['chosen-rating'].tolist()"
   ]
  },
  {
   "cell_type": "code",
   "execution_count": null,
   "metadata": {},
   "outputs": [],
   "source": [
    "metadata = {'source' : source, 'rating' : chosen_rating}"
   ]
  },
  {
   "cell_type": "markdown",
   "metadata": {},
   "source": [
    "Back to Dataset"
   ]
  },
  {
   "cell_type": "code",
   "execution_count": null,
   "metadata": {},
   "outputs": [],
   "source": [
    "docs_sample = Dataset.from_pandas(df_sample)"
   ]
  },
  {
   "cell_type": "code",
   "execution_count": null,
   "metadata": {},
   "outputs": [],
   "source": [
    "embedding_model = SentenceTransformer(model_name_or_path=\"mixedbread-ai/mxbai-embed-large-v1\")\n",
    "bunka = Bunka(embedding_model=embedding_model)\n",
    "bunka.fit(docs_sample['prompt'], metadata=metadata)"
   ]
  },
  {
   "cell_type": "code",
   "execution_count": null,
   "metadata": {},
   "outputs": [],
   "source": [
    "clustering_model = KMeans(n_clusters=15)\n",
    "bunka.get_topics(name_length=10, custom_clustering_model=clustering_model, min_count_terms=20)# Specify the number of terms to describe each topic"
   ]
  },
  {
   "cell_type": "code",
   "execution_count": null,
   "metadata": {},
   "outputs": [],
   "source": [
    "rating_fig = bunka.visualize_topics(color = 'rating')\n",
    "rating_fig.write_image(\"rating_map.png\")\n",
    "source_fig = bunka.visualize_topics(color = 'source')\n",
    "source_fig.write_image('source_map.png')"
   ]
  },
  {
   "cell_type": "code",
   "execution_count": null,
   "metadata": {},
   "outputs": [],
   "source": [
    "map_fig = bunka.visualize_topics()\n",
    "map_fig.write_image(\"full_map.png\")"
   ]
  },
  {
   "cell_type": "markdown",
   "metadata": {},
   "source": [
    "Getting Topics"
   ]
  },
  {
   "cell_type": "code",
   "execution_count": null,
   "metadata": {},
   "outputs": [],
   "source": [
    "df_topics = pd.DataFrame(bunka.topics)\n",
    "\n",
    "#cleaning and formating\n",
    "df_topics = df_topics.rename(columns={0: 'topic_id', 1: 'topic_name'})\n",
    "\n",
    "df_topics = df_topics.drop(columns=[2, 3, 4, 5, 6, 7, 8, 9, 10])\n",
    "\n",
    "# #remove 'name' from the topic_name column\n",
    "# for i in range(len(df_topics)):\n",
    "#     df_topics['topic_name'][i] = df_topics['topic_name'][i][1]\n",
    "\n",
    "df_topics['topic_name'] = df_topics['topic_name'].apply(lambda x: x[1])"
   ]
  },
  {
   "cell_type": "code",
   "execution_count": null,
   "metadata": {},
   "outputs": [],
   "source": [
    "df_topics.to_csv(\"UF_mixedbread_topics.csv\", index=False)"
   ]
  },
  {
   "cell_type": "markdown",
   "metadata": {},
   "source": [
    "Getting Docs"
   ]
  },
  {
   "cell_type": "code",
   "execution_count": null,
   "metadata": {},
   "outputs": [],
   "source": [
    "df_docs = pd.DataFrame(bunka.docs)"
   ]
  },
  {
   "cell_type": "code",
   "execution_count": null,
   "metadata": {},
   "outputs": [],
   "source": [
    "df_docs = df_docs.rename(columns={0: 'doc_id', 1: 'content', 3: 'x_cord', 4:'y_cord', 5:'topic_id', 7:'term_id', 8:'embeddings'})\n",
    "df_docs = df_docs.drop(columns=[2, 6, 9])\n",
    "df_docs['doc_id'] = df_docs['doc_id'].str[1]\n",
    "df_docs['content'] = df_docs['content'].str[1]\n",
    "df_docs['topic_id'] = df_docs['topic_id'].str[1]\n",
    "df_docs['term_id'] = df_docs['term_id'].str[1]\n",
    "df_docs['embeddings'] = df_docs['embeddings'].str[1]"
   ]
  },
  {
   "cell_type": "code",
   "execution_count": null,
   "metadata": {},
   "outputs": [],
   "source": [
    "df_docs.to_csv('UF_mixedbread_docs.csv', index=False)"
   ]
  }
 ],
 "metadata": {
  "language_info": {
   "name": "python"
  }
 },
 "nbformat": 4,
 "nbformat_minor": 2
}
